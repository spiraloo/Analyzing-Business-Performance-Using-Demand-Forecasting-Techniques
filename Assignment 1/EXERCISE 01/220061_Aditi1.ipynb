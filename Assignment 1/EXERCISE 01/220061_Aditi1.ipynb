{
  "cells": [
    {
      "cell_type": "markdown",
      "metadata": {
        "id": "wqpRQCHfRRmk"
      },
      "source": [
        "# NumPy Exercises \n",
        "\n",
        "Now that we've learned about NumPy let's test your knowledge. We'll start off with a few simple tasks, and then you'll be asked some more complicated questions. The text below code cell is the expected output.\n",
        "\n",
        "You are all required to upload this file on github before 23:59 on 19/05/2023."
      ]
    },
    {
      "cell_type": "markdown",
      "metadata": {
        "id": "to0vLfZyRRms"
      },
      "source": [
        "#### Import NumPy as np"
      ]
    },
    {
      "cell_type": "code",
      "execution_count": 6,
      "metadata": {
        "id": "9OSeE106RRmt"
      },
      "outputs": [],
      "source": [
        "import numpy as np"
      ]
    },
    {
      "cell_type": "markdown",
      "metadata": {
        "id": "DZrzt7BmRRmw"
      },
      "source": [
        "#### Create an array of 10 zeros "
      ]
    },
    {
      "cell_type": "code",
      "execution_count": 11,
      "metadata": {
        "id": "EKEqhP1ORRmx",
        "outputId": "001669ec-4202-43fb-b888-da241bdd450c",
        "colab": {
          "base_uri": "https://localhost:8080/"
        }
      },
      "outputs": [
        {
          "output_type": "execute_result",
          "data": {
            "text/plain": [
              "array([0., 0., 0., 0., 0., 0., 0., 0., 0., 0.])"
            ]
          },
          "metadata": {},
          "execution_count": 11
        }
      ],
      "source": [
        "array1=np.zeros(10)\n",
        "array1"
      ]
    },
    {
      "cell_type": "markdown",
      "metadata": {
        "id": "--WK2vn2RRmz"
      },
      "source": [
        "#### Create an array of 10 ones"
      ]
    },
    {
      "cell_type": "code",
      "execution_count": 12,
      "metadata": {
        "scrolled": true,
        "id": "DtLBz44xRRm0",
        "outputId": "4387d459-7bb8-43c1-9f0a-17f106c68667",
        "colab": {
          "base_uri": "https://localhost:8080/"
        }
      },
      "outputs": [
        {
          "output_type": "execute_result",
          "data": {
            "text/plain": [
              "array([1., 1., 1., 1., 1., 1., 1., 1., 1., 1.])"
            ]
          },
          "metadata": {},
          "execution_count": 12
        }
      ],
      "source": [
        "array2=np.ones(10)\n",
        "array2"
      ]
    },
    {
      "cell_type": "markdown",
      "metadata": {
        "id": "o5f7IvSsRRm0"
      },
      "source": [
        "#### Create an array of 10 fives"
      ]
    },
    {
      "cell_type": "code",
      "execution_count": 13,
      "metadata": {
        "id": "1acch2yvRRm1",
        "outputId": "fa866720-4d28-431a-f802-6226be4a9ffe",
        "colab": {
          "base_uri": "https://localhost:8080/"
        }
      },
      "outputs": [
        {
          "output_type": "execute_result",
          "data": {
            "text/plain": [
              "array([5., 5., 5., 5., 5., 5., 5., 5., 5., 5.])"
            ]
          },
          "metadata": {},
          "execution_count": 13
        }
      ],
      "source": [
        "array3=np.linspace(5,5,num=10)\n",
        "array3"
      ]
    },
    {
      "cell_type": "markdown",
      "metadata": {
        "id": "Ze9fQhO8RRm2"
      },
      "source": [
        "#### Create an array of the integers from 10 to 50"
      ]
    },
    {
      "cell_type": "code",
      "execution_count": 14,
      "metadata": {
        "id": "kokL9x6HRRm2",
        "outputId": "539b3f60-c2eb-4226-d116-3eeed90438b3",
        "colab": {
          "base_uri": "https://localhost:8080/"
        }
      },
      "outputs": [
        {
          "output_type": "execute_result",
          "data": {
            "text/plain": [
              "array([10, 11, 12, 13, 14, 15, 16, 17, 18, 19, 20, 21, 22, 23, 24, 25, 26,\n",
              "       27, 28, 29, 30, 31, 32, 33, 34, 35, 36, 37, 38, 39, 40, 41, 42, 43,\n",
              "       44, 45, 46, 47, 48, 49, 50])"
            ]
          },
          "metadata": {},
          "execution_count": 14
        }
      ],
      "source": [
        "array4=np.arange(10,51)\n",
        "array4"
      ]
    },
    {
      "cell_type": "markdown",
      "metadata": {
        "id": "h0fSZ69gRRm3"
      },
      "source": [
        "#### Create an array of all the even integers from 10 to 50"
      ]
    },
    {
      "cell_type": "code",
      "execution_count": null,
      "metadata": {
        "id": "lk9wSNsgRRm3",
        "outputId": "65a3549c-fd5e-4b3f-ffe9-f8a82811d13a",
        "colab": {
          "base_uri": "https://localhost:8080/"
        }
      },
      "outputs": [
        {
          "output_type": "execute_result",
          "data": {
            "text/plain": [
              "array([10, 12, 14, 16, 18, 20, 22, 24, 26, 28, 30, 32, 34, 36, 38, 40, 42,\n",
              "       44, 46, 48, 50])"
            ]
          },
          "metadata": {},
          "execution_count": 20
        }
      ],
      "source": [
        "array5=np.arange(10,51,2)\n",
        "array5"
      ]
    },
    {
      "cell_type": "markdown",
      "metadata": {
        "id": "bzU0_ay5RRm4"
      },
      "source": [
        "#### Create a 3x3 matrix with values ranging from 0 to 8"
      ]
    },
    {
      "cell_type": "code",
      "execution_count": null,
      "metadata": {
        "id": "ai3Q6t1FRRm4",
        "outputId": "bd1614c0-e596-44cb-f463-7d6f591e7921",
        "colab": {
          "base_uri": "https://localhost:8080/"
        }
      },
      "outputs": [
        {
          "output_type": "execute_result",
          "data": {
            "text/plain": [
              "array([[0, 1, 2],\n",
              "       [3, 4, 5],\n",
              "       [6, 7, 8]])"
            ]
          },
          "metadata": {},
          "execution_count": 15
        }
      ],
      "source": [
        "array6=np.arange(0,9).reshape((3,3))\n",
        "array6"
      ]
    },
    {
      "cell_type": "markdown",
      "metadata": {
        "id": "HmaQKerrRRm4"
      },
      "source": [
        "#### Create a 3x3 identity matrix"
      ]
    },
    {
      "cell_type": "code",
      "execution_count": null,
      "metadata": {
        "id": "mDe8_WbJRRm5",
        "outputId": "f5d27b53-e90f-41f0-d508-8a0876e658ea",
        "colab": {
          "base_uri": "https://localhost:8080/"
        }
      },
      "outputs": [
        {
          "output_type": "execute_result",
          "data": {
            "text/plain": [
              "array([[1., 0., 0.],\n",
              "       [0., 1., 0.],\n",
              "       [0., 0., 1.]])"
            ]
          },
          "metadata": {},
          "execution_count": 26
        }
      ],
      "source": [
        "array7=np.identity(3)\n",
        "array7"
      ]
    },
    {
      "cell_type": "markdown",
      "metadata": {
        "id": "twB002KwRRm5"
      },
      "source": [
        "#### Use NumPy to generate a random number between 0 and 1"
      ]
    },
    {
      "cell_type": "code",
      "execution_count": 15,
      "metadata": {
        "id": "r66-gjVIRRm5",
        "outputId": "8496da53-302e-478c-964e-2c31b882f355",
        "colab": {
          "base_uri": "https://localhost:8080/"
        }
      },
      "outputs": [
        {
          "output_type": "execute_result",
          "data": {
            "text/plain": [
              "array([0.91826925])"
            ]
          },
          "metadata": {},
          "execution_count": 15
        }
      ],
      "source": [
        "import random\n",
        "num1=random.random()\n",
        "array8=np.array(num1).reshape(1)\n",
        "array8"
      ]
    },
    {
      "cell_type": "markdown",
      "metadata": {
        "id": "f3g3VDyGRRm6"
      },
      "source": [
        "#### Use NumPy to generate an array of 25 random numbers sampled from a standard normal distribution"
      ]
    },
    {
      "cell_type": "code",
      "execution_count": null,
      "metadata": {
        "id": "aRxXl6zYRRm6",
        "outputId": "8ad4b046-28cd-4d20-8fcd-fa9c5c3437ad",
        "colab": {
          "base_uri": "https://localhost:8080/"
        }
      },
      "outputs": [
        {
          "output_type": "execute_result",
          "data": {
            "text/plain": [
              "array([-0.30994543, -1.71346602,  0.79686039, -0.22295901,  0.00804577,\n",
              "        0.65976282, -1.65218728, -1.10795795,  0.24541563, -0.16046883,\n",
              "        0.48729229,  0.64571041, -1.15406944, -0.44500943, -1.06500559,\n",
              "        1.07255411, -0.77972039, -0.75829935,  0.97133043, -0.65665892,\n",
              "        2.24515872, -1.53367049,  0.9911956 , -1.39714945, -1.05173999])"
            ]
          },
          "metadata": {},
          "execution_count": 4
        }
      ],
      "source": [
        "array9=np.random.randn(25)\n",
        "array9"
      ]
    },
    {
      "cell_type": "markdown",
      "metadata": {
        "id": "DFYmbigRRRm7"
      },
      "source": [
        "#### Create the following matrix:"
      ]
    },
    {
      "cell_type": "code",
      "execution_count": null,
      "metadata": {
        "id": "7abdo1CSRRm7",
        "colab": {
          "base_uri": "https://localhost:8080/"
        },
        "outputId": "3810a866-2865-409c-aad2-91f8e2787905"
      },
      "outputs": [
        {
          "output_type": "execute_result",
          "data": {
            "text/plain": [
              "array([[0.01, 0.02, 0.03, 0.04, 0.05, 0.06, 0.07, 0.08, 0.09, 0.1 ],\n",
              "       [0.11, 0.12, 0.13, 0.14, 0.15, 0.16, 0.17, 0.18, 0.19, 0.2 ],\n",
              "       [0.21, 0.22, 0.23, 0.24, 0.25, 0.26, 0.27, 0.28, 0.29, 0.3 ],\n",
              "       [0.31, 0.32, 0.33, 0.34, 0.35, 0.36, 0.37, 0.38, 0.39, 0.4 ],\n",
              "       [0.41, 0.42, 0.43, 0.44, 0.45, 0.46, 0.47, 0.48, 0.49, 0.5 ],\n",
              "       [0.51, 0.52, 0.53, 0.54, 0.55, 0.56, 0.57, 0.58, 0.59, 0.6 ],\n",
              "       [0.61, 0.62, 0.63, 0.64, 0.65, 0.66, 0.67, 0.68, 0.69, 0.7 ],\n",
              "       [0.71, 0.72, 0.73, 0.74, 0.75, 0.76, 0.77, 0.78, 0.79, 0.8 ],\n",
              "       [0.81, 0.82, 0.83, 0.84, 0.85, 0.86, 0.87, 0.88, 0.89, 0.9 ],\n",
              "       [0.91, 0.92, 0.93, 0.94, 0.95, 0.96, 0.97, 0.98, 0.99, 1.  ]])"
            ]
          },
          "metadata": {},
          "execution_count": 28
        }
      ],
      "source": [
        "array10=np.linspace(0.01,1,num=100).reshape(10,10)\n",
        "array10"
      ]
    },
    {
      "cell_type": "markdown",
      "metadata": {
        "id": "TfabjoiHRRm8"
      },
      "source": [
        "#### Create an array of 20 linearly spaced points between 0 and 1:"
      ]
    },
    {
      "cell_type": "code",
      "execution_count": null,
      "metadata": {
        "id": "fqNIoA0vRRm9",
        "outputId": "8848d3b5-768e-4904-f8b0-1bd6dc31470b",
        "colab": {
          "base_uri": "https://localhost:8080/"
        }
      },
      "outputs": [
        {
          "output_type": "execute_result",
          "data": {
            "text/plain": [
              "array([[0.        , 0.05263158, 0.10526316, 0.15789474, 0.21052632,\n",
              "        0.26315789, 0.31578947, 0.36842105, 0.42105263, 0.47368421,\n",
              "        0.52631579, 0.57894737, 0.63157895, 0.68421053, 0.73684211,\n",
              "        0.78947368, 0.84210526, 0.89473684, 0.94736842, 1.        ]])"
            ]
          },
          "metadata": {},
          "execution_count": 29
        }
      ],
      "source": [
        "array11=np.linspace(0,1,num=20).reshape(1,20)\n",
        "array11"
      ]
    },
    {
      "cell_type": "markdown",
      "metadata": {
        "id": "9tLMORkcRRm9"
      },
      "source": [
        "## Numpy Indexing and Selection\n",
        "\n",
        "Now you will be given a few matrices, and be asked to replicate the resulting matrix outputs:"
      ]
    },
    {
      "cell_type": "code",
      "execution_count": 7,
      "metadata": {
        "scrolled": true,
        "id": "qz7eRsy2RRm-",
        "colab": {
          "base_uri": "https://localhost:8080/"
        },
        "outputId": "45765a30-2bbd-4105-bb36-d64785f4bc70"
      },
      "outputs": [
        {
          "output_type": "execute_result",
          "data": {
            "text/plain": [
              "array([[ 1,  2,  3,  4,  5],\n",
              "       [ 6,  7,  8,  9, 10],\n",
              "       [11, 12, 13, 14, 15],\n",
              "       [16, 17, 18, 19, 20],\n",
              "       [21, 22, 23, 24, 25]])"
            ]
          },
          "metadata": {},
          "execution_count": 7
        }
      ],
      "source": [
        "array12=np.arange(1,26,dtype=np.int64).reshape(5,5)\n",
        "array12"
      ]
    },
    {
      "cell_type": "code",
      "execution_count": null,
      "metadata": {
        "id": "j0Us7bXfRRm-",
        "outputId": "d4f03f9d-31a6-439a-a217-478572b85f08",
        "colab": {
          "base_uri": "https://localhost:8080/"
        }
      },
      "outputs": [
        {
          "output_type": "execute_result",
          "data": {
            "text/plain": [
              "array([[12, 13, 14, 15],\n",
              "       [17, 18, 19, 20],\n",
              "       [22, 23, 24, 25]])"
            ]
          },
          "metadata": {},
          "execution_count": 34
        }
      ],
      "source": [
        "array13=np.concatenate((np.arange(12,16),np.arange(17,21),np.arange(22,26))).reshape(3,4)\n",
        "array13"
      ]
    },
    {
      "cell_type": "code",
      "execution_count": null,
      "metadata": {
        "id": "A7SS0dtvRRm_",
        "outputId": "574421f6-666a-4ee9-e5f1-177fdd77e5eb",
        "colab": {
          "base_uri": "https://localhost:8080/"
        }
      },
      "outputs": [
        {
          "output_type": "stream",
          "name": "stdout",
          "text": [
            "20\n"
          ]
        }
      ],
      "source": [
        "array14=np.array(20)\n",
        "print(array14)"
      ]
    },
    {
      "cell_type": "code",
      "execution_count": null,
      "metadata": {
        "id": "xO_C2fFxRRm_",
        "outputId": "8301e013-b1ec-4160-d24b-c6df8c590275",
        "colab": {
          "base_uri": "https://localhost:8080/"
        }
      },
      "outputs": [
        {
          "output_type": "execute_result",
          "data": {
            "text/plain": [
              "array([[ 2],\n",
              "       [ 7],\n",
              "       [12]])"
            ]
          },
          "metadata": {},
          "execution_count": 38
        }
      ],
      "source": [
        "array15=np.arange(2,13,step=5).reshape(3,1)\n",
        "array15"
      ]
    },
    {
      "cell_type": "code",
      "execution_count": null,
      "metadata": {
        "id": "wTkaKFf4RRnA",
        "outputId": "dddff33e-3f20-4116-a86b-acc269146a0c",
        "colab": {
          "base_uri": "https://localhost:8080/"
        }
      },
      "outputs": [
        {
          "output_type": "execute_result",
          "data": {
            "text/plain": [
              "array([21, 22, 23, 24, 25])"
            ]
          },
          "metadata": {},
          "execution_count": 39
        }
      ],
      "source": [
        "array16=np.arange(21,26)\n",
        "array16"
      ]
    },
    {
      "cell_type": "code",
      "execution_count": null,
      "metadata": {
        "id": "2y4E0IAFRRnA",
        "outputId": "e5f6a4b1-12cf-4fd7-a76c-b6461aa472ca",
        "colab": {
          "base_uri": "https://localhost:8080/"
        }
      },
      "outputs": [
        {
          "output_type": "execute_result",
          "data": {
            "text/plain": [
              "array([[16, 17, 18, 19, 20],\n",
              "       [21, 22, 23, 24, 25]])"
            ]
          },
          "metadata": {},
          "execution_count": 40
        }
      ],
      "source": [
        "array17=np.arange(16,26).reshape(2,5)\n",
        "array17"
      ]
    },
    {
      "cell_type": "markdown",
      "metadata": {
        "id": "Dwl4GJCNRRnA"
      },
      "source": [
        "### Now do the following"
      ]
    },
    {
      "cell_type": "markdown",
      "metadata": {
        "id": "WojELHfsRRnB"
      },
      "source": [
        "#### Get the sum of all the values in mat"
      ]
    },
    {
      "cell_type": "code",
      "execution_count": 8,
      "metadata": {
        "id": "eaoGSQeZRRnB",
        "colab": {
          "base_uri": "https://localhost:8080/"
        },
        "outputId": "bfe91b91-343f-40da-eb4b-fad328c5e48b"
      },
      "outputs": [
        {
          "output_type": "execute_result",
          "data": {
            "text/plain": [
              "325"
            ]
          },
          "metadata": {},
          "execution_count": 8
        }
      ],
      "source": [
        "array12.sum()"
      ]
    },
    {
      "cell_type": "markdown",
      "metadata": {
        "id": "LT-oP1mhRRnC"
      },
      "source": [
        "#### Get the standard deviation of the values in mat"
      ]
    },
    {
      "cell_type": "code",
      "execution_count": 9,
      "metadata": {
        "id": "IVqZvvSeRRnC",
        "colab": {
          "base_uri": "https://localhost:8080/"
        },
        "outputId": "6b431c0d-09a3-4c5f-d05c-a84d017f33ae"
      },
      "outputs": [
        {
          "output_type": "execute_result",
          "data": {
            "text/plain": [
              "7.211102550927978"
            ]
          },
          "metadata": {},
          "execution_count": 9
        }
      ],
      "source": [
        "array12.std()"
      ]
    },
    {
      "cell_type": "markdown",
      "metadata": {
        "id": "vxw58nXKRRnC"
      },
      "source": [
        "#### Get the sum of all the columns in mat"
      ]
    },
    {
      "cell_type": "code",
      "execution_count": 10,
      "metadata": {
        "id": "mo4vl59NRRnD",
        "colab": {
          "base_uri": "https://localhost:8080/"
        },
        "outputId": "6f294a3c-9cd1-4004-de44-312384bb42e2"
      },
      "outputs": [
        {
          "output_type": "execute_result",
          "data": {
            "text/plain": [
              "array([55, 60, 65, 70, 75])"
            ]
          },
          "metadata": {},
          "execution_count": 10
        }
      ],
      "source": [
        "array12.sum(axis=0)"
      ]
    },
    {
      "cell_type": "markdown",
      "metadata": {
        "collapsed": true,
        "id": "YlifPdxuRRnQ"
      },
      "source": [
        "# Great Job!"
      ]
    }
  ],
  "metadata": {
    "kernelspec": {
      "display_name": "Python 3 (ipykernel)",
      "language": "python",
      "name": "python3"
    },
    "language_info": {
      "codemirror_mode": {
        "name": "ipython",
        "version": 3
      },
      "file_extension": ".py",
      "mimetype": "text/x-python",
      "name": "python",
      "nbconvert_exporter": "python",
      "pygments_lexer": "ipython3",
      "version": "3.9.12"
    },
    "colab": {
      "provenance": []
    }
  },
  "nbformat": 4,
  "nbformat_minor": 0
}