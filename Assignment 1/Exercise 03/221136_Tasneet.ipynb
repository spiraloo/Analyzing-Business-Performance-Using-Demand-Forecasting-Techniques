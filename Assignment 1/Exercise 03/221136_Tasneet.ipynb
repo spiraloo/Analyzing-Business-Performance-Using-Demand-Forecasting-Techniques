{
  "cells": [
    {
      "cell_type": "markdown",
      "metadata": {
        "id": "Sgya30XMTz8N"
      },
      "source": [
        "___\n",
        "# Ecommerce Purchases Exercise\n",
        "\n",
        "In this Exercise you will be given some Fake Data about some purchases done through Amazon! Just go ahead and follow the directions and try your best to answer the questions and complete the tasks. Feel free to reference the solutions. Most of the tasks can be solved in different ways. For the most part, the questions get progressively harder.\n",
        "\n",
        "Please excuse anything that doesn't make \"Real-World\" sense in the dataframe, all the data is fake and made-up.\n",
        "\n",
        "Also note that all of these questions can be answered with one line of code.\n",
        "____\n",
        "**Import pandas and read in the Ecommerce Purchases csv file and set it to a DataFrame called ecom.**"
      ]
    },
    {
      "cell_type": "code",
      "execution_count": null,
      "metadata": {
        "id": "UxQhb9yfTz8V"
      },
      "outputs": [],
      "source": [
        "import pandas as pd"
      ]
    },
    {
      "cell_type": "code",
      "execution_count": null,
      "metadata": {
        "id": "Y9Ma_XXuTz8Z",
        "colab": {
          "base_uri": "https://localhost:8080/",
          "height": 73
        },
        "outputId": "02c9051d-758d-479d-d55f-7bc09d5c17f0"
      },
      "outputs": [
        {
          "output_type": "display_data",
          "data": {
            "text/plain": [
              "<IPython.core.display.HTML object>"
            ],
            "text/html": [
              "\n",
              "     <input type=\"file\" id=\"files-9b90079c-876c-4e79-969f-049e4ff1c4cd\" name=\"files[]\" multiple disabled\n",
              "        style=\"border:none\" />\n",
              "     <output id=\"result-9b90079c-876c-4e79-969f-049e4ff1c4cd\">\n",
              "      Upload widget is only available when the cell has been executed in the\n",
              "      current browser session. Please rerun this cell to enable.\n",
              "      </output>\n",
              "      <script>// Copyright 2017 Google LLC\n",
              "//\n",
              "// Licensed under the Apache License, Version 2.0 (the \"License\");\n",
              "// you may not use this file except in compliance with the License.\n",
              "// You may obtain a copy of the License at\n",
              "//\n",
              "//      http://www.apache.org/licenses/LICENSE-2.0\n",
              "//\n",
              "// Unless required by applicable law or agreed to in writing, software\n",
              "// distributed under the License is distributed on an \"AS IS\" BASIS,\n",
              "// WITHOUT WARRANTIES OR CONDITIONS OF ANY KIND, either express or implied.\n",
              "// See the License for the specific language governing permissions and\n",
              "// limitations under the License.\n",
              "\n",
              "/**\n",
              " * @fileoverview Helpers for google.colab Python module.\n",
              " */\n",
              "(function(scope) {\n",
              "function span(text, styleAttributes = {}) {\n",
              "  const element = document.createElement('span');\n",
              "  element.textContent = text;\n",
              "  for (const key of Object.keys(styleAttributes)) {\n",
              "    element.style[key] = styleAttributes[key];\n",
              "  }\n",
              "  return element;\n",
              "}\n",
              "\n",
              "// Max number of bytes which will be uploaded at a time.\n",
              "const MAX_PAYLOAD_SIZE = 100 * 1024;\n",
              "\n",
              "function _uploadFiles(inputId, outputId) {\n",
              "  const steps = uploadFilesStep(inputId, outputId);\n",
              "  const outputElement = document.getElementById(outputId);\n",
              "  // Cache steps on the outputElement to make it available for the next call\n",
              "  // to uploadFilesContinue from Python.\n",
              "  outputElement.steps = steps;\n",
              "\n",
              "  return _uploadFilesContinue(outputId);\n",
              "}\n",
              "\n",
              "// This is roughly an async generator (not supported in the browser yet),\n",
              "// where there are multiple asynchronous steps and the Python side is going\n",
              "// to poll for completion of each step.\n",
              "// This uses a Promise to block the python side on completion of each step,\n",
              "// then passes the result of the previous step as the input to the next step.\n",
              "function _uploadFilesContinue(outputId) {\n",
              "  const outputElement = document.getElementById(outputId);\n",
              "  const steps = outputElement.steps;\n",
              "\n",
              "  const next = steps.next(outputElement.lastPromiseValue);\n",
              "  return Promise.resolve(next.value.promise).then((value) => {\n",
              "    // Cache the last promise value to make it available to the next\n",
              "    // step of the generator.\n",
              "    outputElement.lastPromiseValue = value;\n",
              "    return next.value.response;\n",
              "  });\n",
              "}\n",
              "\n",
              "/**\n",
              " * Generator function which is called between each async step of the upload\n",
              " * process.\n",
              " * @param {string} inputId Element ID of the input file picker element.\n",
              " * @param {string} outputId Element ID of the output display.\n",
              " * @return {!Iterable<!Object>} Iterable of next steps.\n",
              " */\n",
              "function* uploadFilesStep(inputId, outputId) {\n",
              "  const inputElement = document.getElementById(inputId);\n",
              "  inputElement.disabled = false;\n",
              "\n",
              "  const outputElement = document.getElementById(outputId);\n",
              "  outputElement.innerHTML = '';\n",
              "\n",
              "  const pickedPromise = new Promise((resolve) => {\n",
              "    inputElement.addEventListener('change', (e) => {\n",
              "      resolve(e.target.files);\n",
              "    });\n",
              "  });\n",
              "\n",
              "  const cancel = document.createElement('button');\n",
              "  inputElement.parentElement.appendChild(cancel);\n",
              "  cancel.textContent = 'Cancel upload';\n",
              "  const cancelPromise = new Promise((resolve) => {\n",
              "    cancel.onclick = () => {\n",
              "      resolve(null);\n",
              "    };\n",
              "  });\n",
              "\n",
              "  // Wait for the user to pick the files.\n",
              "  const files = yield {\n",
              "    promise: Promise.race([pickedPromise, cancelPromise]),\n",
              "    response: {\n",
              "      action: 'starting',\n",
              "    }\n",
              "  };\n",
              "\n",
              "  cancel.remove();\n",
              "\n",
              "  // Disable the input element since further picks are not allowed.\n",
              "  inputElement.disabled = true;\n",
              "\n",
              "  if (!files) {\n",
              "    return {\n",
              "      response: {\n",
              "        action: 'complete',\n",
              "      }\n",
              "    };\n",
              "  }\n",
              "\n",
              "  for (const file of files) {\n",
              "    const li = document.createElement('li');\n",
              "    li.append(span(file.name, {fontWeight: 'bold'}));\n",
              "    li.append(span(\n",
              "        `(${file.type || 'n/a'}) - ${file.size} bytes, ` +\n",
              "        `last modified: ${\n",
              "            file.lastModifiedDate ? file.lastModifiedDate.toLocaleDateString() :\n",
              "                                    'n/a'} - `));\n",
              "    const percent = span('0% done');\n",
              "    li.appendChild(percent);\n",
              "\n",
              "    outputElement.appendChild(li);\n",
              "\n",
              "    const fileDataPromise = new Promise((resolve) => {\n",
              "      const reader = new FileReader();\n",
              "      reader.onload = (e) => {\n",
              "        resolve(e.target.result);\n",
              "      };\n",
              "      reader.readAsArrayBuffer(file);\n",
              "    });\n",
              "    // Wait for the data to be ready.\n",
              "    let fileData = yield {\n",
              "      promise: fileDataPromise,\n",
              "      response: {\n",
              "        action: 'continue',\n",
              "      }\n",
              "    };\n",
              "\n",
              "    // Use a chunked sending to avoid message size limits. See b/62115660.\n",
              "    let position = 0;\n",
              "    do {\n",
              "      const length = Math.min(fileData.byteLength - position, MAX_PAYLOAD_SIZE);\n",
              "      const chunk = new Uint8Array(fileData, position, length);\n",
              "      position += length;\n",
              "\n",
              "      const base64 = btoa(String.fromCharCode.apply(null, chunk));\n",
              "      yield {\n",
              "        response: {\n",
              "          action: 'append',\n",
              "          file: file.name,\n",
              "          data: base64,\n",
              "        },\n",
              "      };\n",
              "\n",
              "      let percentDone = fileData.byteLength === 0 ?\n",
              "          100 :\n",
              "          Math.round((position / fileData.byteLength) * 100);\n",
              "      percent.textContent = `${percentDone}% done`;\n",
              "\n",
              "    } while (position < fileData.byteLength);\n",
              "  }\n",
              "\n",
              "  // All done.\n",
              "  yield {\n",
              "    response: {\n",
              "      action: 'complete',\n",
              "    }\n",
              "  };\n",
              "}\n",
              "\n",
              "scope.google = scope.google || {};\n",
              "scope.google.colab = scope.google.colab || {};\n",
              "scope.google.colab._files = {\n",
              "  _uploadFiles,\n",
              "  _uploadFilesContinue,\n",
              "};\n",
              "})(self);\n",
              "</script> "
            ]
          },
          "metadata": {}
        },
        {
          "output_type": "stream",
          "name": "stdout",
          "text": [
            "Saving Ecommerce Purchases.csv to Ecommerce Purchases.csv\n"
          ]
        }
      ],
      "source": [
        "from google.colab import files\n",
        "uploaded =files.upload()\n",
        "ecom=pd.read_csv(\"Ecommerce Purchases.csv\")\n"
      ]
    },
    {
      "cell_type": "markdown",
      "metadata": {
        "id": "5HkRW1XZTz8a"
      },
      "source": [
        "**Check the head of the DataFrame.**"
      ]
    },
    {
      "cell_type": "code",
      "execution_count": null,
      "metadata": {
        "id": "kza_PrgHTz8a",
        "outputId": "331f23cd-0d9b-4bcd-bc61-caafc7a2bfa6",
        "colab": {
          "base_uri": "https://localhost:8080/"
        }
      },
      "outputs": [
        {
          "output_type": "stream",
          "name": "stdout",
          "text": [
            "                                             Address    Lot AM or PM  \\\n",
            "0  16629 Pace Camp Apt. 448\\r\\nAlexisborough, NE ...  46 in       PM   \n",
            "1  9374 Jasmine Spurs Suite 508\\r\\nSouth John, TN...  28 rn       PM   \n",
            "2                 Unit 0065 Box 5052\\r\\nDPO AP 27450  94 vE       PM   \n",
            "3            7780 Julia Fords\\r\\nNew Stacy, WA 45798  36 vm       PM   \n",
            "4  23012 Munoz Drive Suite 337\\r\\nNew Cynthia, TX...  20 IE       AM   \n",
            "\n",
            "                                        Browser Info  \\\n",
            "0  Opera/9.56.(X11; Linux x86_64; sl-SI) Presto/2...   \n",
            "1  Opera/8.93.(Windows 98; Win 9x 4.90; en-US) Pr...   \n",
            "2  Mozilla/5.0 (compatible; MSIE 9.0; Windows NT ...   \n",
            "3  Mozilla/5.0 (Macintosh; Intel Mac OS X 10_8_0 ...   \n",
            "4  Opera/9.58.(X11; Linux x86_64; it-IT) Presto/2...   \n",
            "\n",
            "                           Company       Credit Card CC Exp Date  \\\n",
            "0                  Martinez-Herman  6011929061123406       02/20   \n",
            "1  Fletcher, Richards and Whitaker  3337758169645356       11/18   \n",
            "2       Simpson, Williams and Pham      675957666125       08/19   \n",
            "3  Williams, Marshall and Buchanan  6011578504430710       02/24   \n",
            "4        Brown, Watson and Andrews  6011456623207998       10/25   \n",
            "\n",
            "   CC Security Code                  CC Provider  \\\n",
            "0               900                 JCB 16 digit   \n",
            "1               561                   Mastercard   \n",
            "2               699                 JCB 16 digit   \n",
            "3               384                     Discover   \n",
            "4               678  Diners Club / Carte Blanche   \n",
            "\n",
            "                            Email                                     Job  \\\n",
            "0               pdunlap@yahoo.com  Scientist, product/process development   \n",
            "1              anthony41@reed.com                       Drilling engineer   \n",
            "2  amymiller@morales-harrison.com                Customer service manager   \n",
            "3     brent16@olson-robinson.info                       Drilling engineer   \n",
            "4     christopherwright@gmail.com                             Fine artist   \n",
            "\n",
            "        IP Address Language  Purchase Price  \n",
            "0  149.146.147.205       el           98.14  \n",
            "1     15.160.41.51       fr           70.73  \n",
            "2   132.207.160.22       de            0.95  \n",
            "3     30.250.74.19       es           78.04  \n",
            "4     24.140.33.94       es           77.82  \n"
          ]
        }
      ],
      "source": [
        "print(ecom.head(5))"
      ]
    },
    {
      "cell_type": "markdown",
      "metadata": {
        "id": "9n0hbNCQTz8c"
      },
      "source": [
        "**How many rows and columns are there?**"
      ]
    },
    {
      "cell_type": "code",
      "execution_count": null,
      "metadata": {
        "id": "7klHiuf9Tz8c",
        "outputId": "8463e59a-b866-4d38-84a2-bf69408c1860",
        "colab": {
          "base_uri": "https://localhost:8080/"
        }
      },
      "outputs": [
        {
          "output_type": "stream",
          "name": "stdout",
          "text": [
            "<class 'pandas.core.frame.DataFrame'>\n",
            "RangeIndex: 10000 entries, 0 to 9999\n",
            "Data columns (total 14 columns):\n",
            " #   Column            Non-Null Count  Dtype  \n",
            "---  ------            --------------  -----  \n",
            " 0   Address           10000 non-null  object \n",
            " 1   Lot               10000 non-null  object \n",
            " 2   AM or PM          10000 non-null  object \n",
            " 3   Browser Info      10000 non-null  object \n",
            " 4   Company           10000 non-null  object \n",
            " 5   Credit Card       10000 non-null  int64  \n",
            " 6   CC Exp Date       10000 non-null  object \n",
            " 7   CC Security Code  10000 non-null  int64  \n",
            " 8   CC Provider       10000 non-null  object \n",
            " 9   Email             10000 non-null  object \n",
            " 10  Job               10000 non-null  object \n",
            " 11  IP Address        10000 non-null  object \n",
            " 12  Language          10000 non-null  object \n",
            " 13  Purchase Price    10000 non-null  float64\n",
            "dtypes: float64(1), int64(2), object(11)\n",
            "memory usage: 1.1+ MB\n",
            "None\n"
          ]
        }
      ],
      "source": [
        "print(ecom.info())"
      ]
    },
    {
      "cell_type": "markdown",
      "metadata": {
        "id": "x-namh0MTz8d"
      },
      "source": [
        "**What is the average Purchase Price?**"
      ]
    },
    {
      "cell_type": "code",
      "execution_count": null,
      "metadata": {
        "id": "DcVZTIrATz8e",
        "outputId": "ca697e77-5515-4f7a-a239-859a88acc02e",
        "colab": {
          "base_uri": "https://localhost:8080/"
        }
      },
      "outputs": [
        {
          "output_type": "stream",
          "name": "stdout",
          "text": [
            "Purchase Price    50.347302\n",
            "dtype: float64\n"
          ]
        }
      ],
      "source": [
        "avg=ecom[[\"Purchase Price\"]].mean()\n",
        "print(avg)\n"
      ]
    },
    {
      "cell_type": "markdown",
      "metadata": {
        "id": "8pwvv30hTz8f"
      },
      "source": [
        "**What were the highest and lowest purchase prices?**"
      ]
    },
    {
      "cell_type": "code",
      "execution_count": null,
      "metadata": {
        "id": "-xdmifhaTz8g",
        "outputId": "a0fc2d17-add8-4749-e976-e7960013b9fe",
        "colab": {
          "base_uri": "https://localhost:8080/"
        }
      },
      "outputs": [
        {
          "output_type": "stream",
          "name": "stdout",
          "text": [
            "Purchase Price    50.347302\n",
            "dtype: float64\n"
          ]
        }
      ],
      "source": [
        "max=ecom[[\"Purchase Price\"]].mean()\n",
        "print(max)"
      ]
    },
    {
      "cell_type": "code",
      "execution_count": null,
      "metadata": {
        "id": "mDJUcFL7Tz8h",
        "outputId": "31d4fd1b-57b6-4b6d-b604-d4ab61bb23af",
        "colab": {
          "base_uri": "https://localhost:8080/"
        }
      },
      "outputs": [
        {
          "output_type": "stream",
          "name": "stdout",
          "text": [
            "Purchase Price    0.0\n",
            "dtype: float64\n"
          ]
        }
      ],
      "source": [
        "min=ecom[[\"Purchase Price\"]].min()\n",
        "print(min)"
      ]
    },
    {
      "cell_type": "markdown",
      "metadata": {
        "id": "yEJrUnQ_Tz8i"
      },
      "source": [
        "**How many people have English 'en' as their Language of choice on the website?**"
      ]
    },
    {
      "cell_type": "code",
      "execution_count": null,
      "metadata": {
        "id": "7zlyxsQeTz8j",
        "outputId": "a763974a-b99f-4a76-82a3-c5c5478d2c60",
        "colab": {
          "base_uri": "https://localhost:8080/"
        }
      },
      "outputs": [
        {
          "output_type": "stream",
          "name": "stdout",
          "text": [
            "1098\n"
          ]
        }
      ],
      "source": [
        "en=ecom.loc[ecom['Language']=='en']\n",
        "a=len(en)\n",
        "print(a)"
      ]
    },
    {
      "cell_type": "markdown",
      "metadata": {
        "id": "k_YloD6fTz8k"
      },
      "source": [
        "**How many people have the job title of \"Lawyer\" ?**\n"
      ]
    },
    {
      "cell_type": "code",
      "execution_count": null,
      "metadata": {
        "id": "ejXZFaL7Tz8k",
        "outputId": "51a69262-cdec-4169-9503-3c9756096e35",
        "colab": {
          "base_uri": "https://localhost:8080/"
        }
      },
      "outputs": [
        {
          "output_type": "stream",
          "name": "stdout",
          "text": [
            "30\n"
          ]
        }
      ],
      "source": [
        "l=ecom.loc[ecom['Job']=='Lawyer']\n",
        "print(len(l))\n"
      ]
    },
    {
      "cell_type": "markdown",
      "metadata": {
        "id": "jomFgia9Tz8l"
      },
      "source": [
        "**How many people made the purchase during the AM and how many people made the purchase during PM ?**\n",
        "\n",
        "**(Hint: Check out [value_counts()](http://pandas.pydata.org/pandas-docs/stable/generated/pandas.Series.value_counts.html) ) **"
      ]
    },
    {
      "cell_type": "code",
      "execution_count": null,
      "metadata": {
        "id": "w2qYyR_oTz8l",
        "outputId": "4c78b1c1-ad88-4723-9d47-fd023a1c9115",
        "colab": {
          "base_uri": "https://localhost:8080/"
        }
      },
      "outputs": [
        {
          "output_type": "stream",
          "name": "stdout",
          "text": [
            "PM    5068\n",
            "AM    4932\n",
            "Name: AM or PM, dtype: int64\n"
          ]
        }
      ],
      "source": [
        "a=ecom[\"AM or PM\"].value_counts()\n",
        "print(a)\n"
      ]
    },
    {
      "cell_type": "markdown",
      "metadata": {
        "id": "JpJSInIBTz8m"
      },
      "source": [
        "**What are the 5 most common Job Titles?**"
      ]
    },
    {
      "cell_type": "code",
      "execution_count": null,
      "metadata": {
        "id": "_Bpsu4X3Tz8m",
        "outputId": "18c420bc-19ca-4713-e04d-7b53aabe0f72",
        "colab": {
          "base_uri": "https://localhost:8080/"
        }
      },
      "outputs": [
        {
          "output_type": "stream",
          "name": "stdout",
          "text": [
            "Interior and spatial designer    31\n",
            "Lawyer                           30\n",
            "Social researcher                28\n",
            "Purchasing manager               27\n",
            "Designer, jewellery              27\n",
            "Name: Job, dtype: int64\n"
          ]
        }
      ],
      "source": [
        "c=ecom['Job'].value_counts().head(5)\n",
        "print(c)\n"
      ]
    },
    {
      "cell_type": "markdown",
      "metadata": {
        "id": "MGXlYhcRTz8n"
      },
      "source": [
        "**Someone made a purchase that came from Lot: \"90 WT\" , what was the Purchase Price for this transaction?**"
      ]
    },
    {
      "cell_type": "code",
      "execution_count": null,
      "metadata": {
        "id": "Qhc7sPYtTz8o",
        "outputId": "e43c3b67-61df-4e02-97c1-d911db38db12",
        "colab": {
          "base_uri": "https://localhost:8080/"
        }
      },
      "outputs": [
        {
          "output_type": "stream",
          "name": "stdout",
          "text": [
            "513    75.1\n",
            "Name: Purchase Price, dtype: float64\n"
          ]
        }
      ],
      "source": [
        "pp=ecom['Purchase Price'].loc[ecom['Lot']=='90 WT']\n",
        "print(pp)\n"
      ]
    },
    {
      "cell_type": "markdown",
      "metadata": {
        "id": "_-We56NETz8p"
      },
      "source": [
        "**What is the email of the person with the following Credit Card Number: 4926535242672853**"
      ]
    },
    {
      "cell_type": "code",
      "execution_count": null,
      "metadata": {
        "id": "wyU1RTaRTz8p",
        "outputId": "3e58e834-7c75-4d5a-eae5-be862b5613e2",
        "colab": {
          "base_uri": "https://localhost:8080/"
        }
      },
      "outputs": [
        {
          "output_type": "stream",
          "name": "stdout",
          "text": [
            "1234    bondellen@williams-garza.com\n",
            "Name: Email, dtype: object\n"
          ]
        }
      ],
      "source": [
        "cc=ecom['Email'].loc[ecom['Credit Card']==4926535242672853]\n",
        "print(cc)\n"
      ]
    },
    {
      "cell_type": "markdown",
      "metadata": {
        "id": "PjGj5kpjTz8q"
      },
      "source": [
        "**How many people have American Express as their Credit Card Provider *and* made a purchase above $95 ?**"
      ]
    },
    {
      "cell_type": "code",
      "execution_count": null,
      "metadata": {
        "id": "8JoYeMAOTz8q",
        "colab": {
          "base_uri": "https://localhost:8080/"
        },
        "outputId": "804b3705-9558-43db-f95a-d268226703ba"
      },
      "outputs": [
        {
          "output_type": "stream",
          "name": "stdout",
          "text": [
            "39\n"
          ]
        }
      ],
      "source": [
        "a=(ecom.loc[ecom['CC Provider']=='American Express'])\n",
        "b=len(a.loc[ecom['Purchase Price']>95])\n",
        "print(b)\n"
      ]
    },
    {
      "cell_type": "markdown",
      "metadata": {
        "id": "r96kqyXtTz8r"
      },
      "source": [
        "**Hard: How many people have a credit card that expires in 2025?**"
      ]
    },
    {
      "cell_type": "code",
      "execution_count": null,
      "metadata": {
        "id": "tm9kwTNmTz8r",
        "outputId": "b1ece7f5-824e-4c98-f93e-6600b37ce933",
        "colab": {
          "base_uri": "https://localhost:8080/"
        }
      },
      "outputs": [
        {
          "output_type": "stream",
          "name": "stdout",
          "text": [
            "25    1033\n",
            "dtype: int64\n"
          ]
        }
      ],
      "source": [
        "len=len(ecom)\n",
        "a=list(ecom[\"CC Exp Date\"])\n",
        "the = []\n",
        "for x in range (len):\n",
        "    s=a[x].split(\"/\")\n",
        "    if s[1]=='25':\n",
        "        the.append(s[1])\n",
        "year=pd.DataFrame(the)\n",
        "grp=year.value_counts()\n",
        "print(grp)\n"
      ]
    },
    {
      "cell_type": "markdown",
      "metadata": {
        "id": "AY1G7p20Tz8r"
      },
      "source": [
        "**Hard: What are the top 5 most popular email providers/hosts (e.g. gmail.com, yahoo.com, etc...)**"
      ]
    },
    {
      "cell_type": "code",
      "execution_count": 42,
      "metadata": {
        "id": "G9TRZ8V8Tz8s",
        "outputId": "ee8b8c23-3337-4c08-d805-9b0e9fdaa96b",
        "colab": {
          "base_uri": "https://localhost:8080/"
        }
      },
      "outputs": [
        {
          "output_type": "stream",
          "name": "stdout",
          "text": [
            "hotmail.com     1638\n",
            "yahoo.com       1616\n",
            "gmail.com       1605\n",
            "smith.com         42\n",
            "williams.com      37\n",
            "johnson.com       29\n",
            "dtype: int64\n"
          ]
        }
      ],
      "source": [
        "a=list(ecom.Email)\n",
        "u=0\n",
        "for item in a:\n",
        "  u+=1\n",
        "the = []\n",
        "for x in range (u):\n",
        "    s=a[x].split(\"@\")\n",
        "    the.append(s[1])\n",
        "mail=pd.DataFrame(the)\n",
        "grp=mail.value_counts()\n",
        "print(grp[0:6])"
      ]
    },
    {
      "cell_type": "markdown",
      "metadata": {
        "id": "apyvfF53Tz8s"
      },
      "source": [
        "# Great Job!"
      ]
    }
  ],
  "metadata": {
    "kernelspec": {
      "display_name": "Python 3 (ipykernel)",
      "language": "python",
      "name": "python3"
    },
    "language_info": {
      "codemirror_mode": {
        "name": "ipython",
        "version": 3
      },
      "file_extension": ".py",
      "mimetype": "text/x-python",
      "name": "python",
      "nbconvert_exporter": "python",
      "pygments_lexer": "ipython3",
      "version": "3.9.12"
    },
    "colab": {
      "provenance": []
    }
  },
  "nbformat": 4,
  "nbformat_minor": 0
}