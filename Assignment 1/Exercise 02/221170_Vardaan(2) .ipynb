{
  "nbformat": 4,
  "nbformat_minor": 0,
  "metadata": {
    "colab": {
      "provenance": []
    },
    "kernelspec": {
      "name": "python3",
      "display_name": "Python 3"
    },
    "language_info": {
      "name": "python"
    }
  },
  "cells": [
    {
      "cell_type": "code",
      "source": [
        "import numpy as np"
      ],
      "metadata": {
        "id": "zKRcbb-YJSFc"
      },
      "execution_count": 1,
      "outputs": []
    },
    {
      "cell_type": "code",
      "execution_count": 2,
      "metadata": {
        "id": "VjkuUHpZ_E1A"
      },
      "outputs": [],
      "source": [
        "import pandas as pd"
      ]
    },
    {
      "cell_type": "code",
      "source": [
        "from google.colab import files\n",
        "uploaded = files.upload()"
      ],
      "metadata": {
        "colab": {
          "base_uri": "https://localhost:8080/",
          "height": 73
        },
        "id": "7bFnIZ_UCFh6",
        "outputId": "3e273af7-4c00-41cc-f97e-5d34185c99da"
      },
      "execution_count": 3,
      "outputs": [
        {
          "output_type": "display_data",
          "data": {
            "text/plain": [
              "<IPython.core.display.HTML object>"
            ],
            "text/html": [
              "\n",
              "     <input type=\"file\" id=\"files-ee595253-a9e3-4549-8aba-fe39c3bb5774\" name=\"files[]\" multiple disabled\n",
              "        style=\"border:none\" />\n",
              "     <output id=\"result-ee595253-a9e3-4549-8aba-fe39c3bb5774\">\n",
              "      Upload widget is only available when the cell has been executed in the\n",
              "      current browser session. Please rerun this cell to enable.\n",
              "      </output>\n",
              "      <script>// Copyright 2017 Google LLC\n",
              "//\n",
              "// Licensed under the Apache License, Version 2.0 (the \"License\");\n",
              "// you may not use this file except in compliance with the License.\n",
              "// You may obtain a copy of the License at\n",
              "//\n",
              "//      http://www.apache.org/licenses/LICENSE-2.0\n",
              "//\n",
              "// Unless required by applicable law or agreed to in writing, software\n",
              "// distributed under the License is distributed on an \"AS IS\" BASIS,\n",
              "// WITHOUT WARRANTIES OR CONDITIONS OF ANY KIND, either express or implied.\n",
              "// See the License for the specific language governing permissions and\n",
              "// limitations under the License.\n",
              "\n",
              "/**\n",
              " * @fileoverview Helpers for google.colab Python module.\n",
              " */\n",
              "(function(scope) {\n",
              "function span(text, styleAttributes = {}) {\n",
              "  const element = document.createElement('span');\n",
              "  element.textContent = text;\n",
              "  for (const key of Object.keys(styleAttributes)) {\n",
              "    element.style[key] = styleAttributes[key];\n",
              "  }\n",
              "  return element;\n",
              "}\n",
              "\n",
              "// Max number of bytes which will be uploaded at a time.\n",
              "const MAX_PAYLOAD_SIZE = 100 * 1024;\n",
              "\n",
              "function _uploadFiles(inputId, outputId) {\n",
              "  const steps = uploadFilesStep(inputId, outputId);\n",
              "  const outputElement = document.getElementById(outputId);\n",
              "  // Cache steps on the outputElement to make it available for the next call\n",
              "  // to uploadFilesContinue from Python.\n",
              "  outputElement.steps = steps;\n",
              "\n",
              "  return _uploadFilesContinue(outputId);\n",
              "}\n",
              "\n",
              "// This is roughly an async generator (not supported in the browser yet),\n",
              "// where there are multiple asynchronous steps and the Python side is going\n",
              "// to poll for completion of each step.\n",
              "// This uses a Promise to block the python side on completion of each step,\n",
              "// then passes the result of the previous step as the input to the next step.\n",
              "function _uploadFilesContinue(outputId) {\n",
              "  const outputElement = document.getElementById(outputId);\n",
              "  const steps = outputElement.steps;\n",
              "\n",
              "  const next = steps.next(outputElement.lastPromiseValue);\n",
              "  return Promise.resolve(next.value.promise).then((value) => {\n",
              "    // Cache the last promise value to make it available to the next\n",
              "    // step of the generator.\n",
              "    outputElement.lastPromiseValue = value;\n",
              "    return next.value.response;\n",
              "  });\n",
              "}\n",
              "\n",
              "/**\n",
              " * Generator function which is called between each async step of the upload\n",
              " * process.\n",
              " * @param {string} inputId Element ID of the input file picker element.\n",
              " * @param {string} outputId Element ID of the output display.\n",
              " * @return {!Iterable<!Object>} Iterable of next steps.\n",
              " */\n",
              "function* uploadFilesStep(inputId, outputId) {\n",
              "  const inputElement = document.getElementById(inputId);\n",
              "  inputElement.disabled = false;\n",
              "\n",
              "  const outputElement = document.getElementById(outputId);\n",
              "  outputElement.innerHTML = '';\n",
              "\n",
              "  const pickedPromise = new Promise((resolve) => {\n",
              "    inputElement.addEventListener('change', (e) => {\n",
              "      resolve(e.target.files);\n",
              "    });\n",
              "  });\n",
              "\n",
              "  const cancel = document.createElement('button');\n",
              "  inputElement.parentElement.appendChild(cancel);\n",
              "  cancel.textContent = 'Cancel upload';\n",
              "  const cancelPromise = new Promise((resolve) => {\n",
              "    cancel.onclick = () => {\n",
              "      resolve(null);\n",
              "    };\n",
              "  });\n",
              "\n",
              "  // Wait for the user to pick the files.\n",
              "  const files = yield {\n",
              "    promise: Promise.race([pickedPromise, cancelPromise]),\n",
              "    response: {\n",
              "      action: 'starting',\n",
              "    }\n",
              "  };\n",
              "\n",
              "  cancel.remove();\n",
              "\n",
              "  // Disable the input element since further picks are not allowed.\n",
              "  inputElement.disabled = true;\n",
              "\n",
              "  if (!files) {\n",
              "    return {\n",
              "      response: {\n",
              "        action: 'complete',\n",
              "      }\n",
              "    };\n",
              "  }\n",
              "\n",
              "  for (const file of files) {\n",
              "    const li = document.createElement('li');\n",
              "    li.append(span(file.name, {fontWeight: 'bold'}));\n",
              "    li.append(span(\n",
              "        `(${file.type || 'n/a'}) - ${file.size} bytes, ` +\n",
              "        `last modified: ${\n",
              "            file.lastModifiedDate ? file.lastModifiedDate.toLocaleDateString() :\n",
              "                                    'n/a'} - `));\n",
              "    const percent = span('0% done');\n",
              "    li.appendChild(percent);\n",
              "\n",
              "    outputElement.appendChild(li);\n",
              "\n",
              "    const fileDataPromise = new Promise((resolve) => {\n",
              "      const reader = new FileReader();\n",
              "      reader.onload = (e) => {\n",
              "        resolve(e.target.result);\n",
              "      };\n",
              "      reader.readAsArrayBuffer(file);\n",
              "    });\n",
              "    // Wait for the data to be ready.\n",
              "    let fileData = yield {\n",
              "      promise: fileDataPromise,\n",
              "      response: {\n",
              "        action: 'continue',\n",
              "      }\n",
              "    };\n",
              "\n",
              "    // Use a chunked sending to avoid message size limits. See b/62115660.\n",
              "    let position = 0;\n",
              "    do {\n",
              "      const length = Math.min(fileData.byteLength - position, MAX_PAYLOAD_SIZE);\n",
              "      const chunk = new Uint8Array(fileData, position, length);\n",
              "      position += length;\n",
              "\n",
              "      const base64 = btoa(String.fromCharCode.apply(null, chunk));\n",
              "      yield {\n",
              "        response: {\n",
              "          action: 'append',\n",
              "          file: file.name,\n",
              "          data: base64,\n",
              "        },\n",
              "      };\n",
              "\n",
              "      let percentDone = fileData.byteLength === 0 ?\n",
              "          100 :\n",
              "          Math.round((position / fileData.byteLength) * 100);\n",
              "      percent.textContent = `${percentDone}% done`;\n",
              "\n",
              "    } while (position < fileData.byteLength);\n",
              "  }\n",
              "\n",
              "  // All done.\n",
              "  yield {\n",
              "    response: {\n",
              "      action: 'complete',\n",
              "    }\n",
              "  };\n",
              "}\n",
              "\n",
              "scope.google = scope.google || {};\n",
              "scope.google.colab = scope.google.colab || {};\n",
              "scope.google.colab._files = {\n",
              "  _uploadFiles,\n",
              "  _uploadFilesContinue,\n",
              "};\n",
              "})(self);\n",
              "</script> "
            ]
          },
          "metadata": {}
        },
        {
          "output_type": "stream",
          "name": "stdout",
          "text": [
            "Saving Salaries.csv to Salaries.csv\n"
          ]
        }
      ]
    },
    {
      "cell_type": "code",
      "source": [
        "sal = pd.read_csv('Salaries.csv')"
      ],
      "metadata": {
        "id": "UpLYscVk_a2H"
      },
      "execution_count": 4,
      "outputs": []
    },
    {
      "cell_type": "code",
      "source": [
        "head_sal = sal.head(5)\n",
        "pd.set_option('display.width', 300)\n",
        "styled_df = sal.style.set_properties(**{'height': '30px'})\n",
        "print(head_sal)\n",
        "def apply_bg_color(row):\n",
        "    bg_color = 'grey' if row.name % 2 == 0 else 'white'\n",
        "    return ['background-color: {}'.format(bg_color)] * len(row)\n",
        "styled_df = sal.style.apply(apply_bg_color, axis=1)"
      ],
      "metadata": {
        "colab": {
          "base_uri": "https://localhost:8080/"
        },
        "id": "q6ZxV9LFHcXt",
        "outputId": "3197899e-a80c-4f76-c5e7-cd20fece010a"
      },
      "execution_count": 10,
      "outputs": [
        {
          "output_type": "stream",
          "name": "stdout",
          "text": [
            "   Id       EmployeeName                                        JobTitle    BasePay  OvertimePay   OtherPay  Benefits   TotalPay  TotalPayBenefits  Year  Notes         Agency  Status\n",
            "0   1     NATHANIEL FORD  GENERAL MANAGER-METROPOLITAN TRANSIT AUTHORITY  167411.18         0.00  400184.25       NaN  567595.43         567595.43  2011    NaN  San Francisco     NaN\n",
            "1   2       GARY JIMENEZ                 CAPTAIN III (POLICE DEPARTMENT)  155966.02    245131.88  137811.38       NaN  538909.28         538909.28  2011    NaN  San Francisco     NaN\n",
            "2   3     ALBERT PARDINI                 CAPTAIN III (POLICE DEPARTMENT)  212739.13    106088.18   16452.60       NaN  335279.91         335279.91  2011    NaN  San Francisco     NaN\n",
            "3   4  CHRISTOPHER CHONG            WIRE ROPE CABLE MAINTENANCE MECHANIC   77916.00     56120.71  198306.90       NaN  332343.61         332343.61  2011    NaN  San Francisco     NaN\n",
            "4   5    PATRICK GARDNER    DEPUTY CHIEF OF DEPARTMENT,(FIRE DEPARTMENT)  134401.60      9737.00  182234.59       NaN  326373.19         326373.19  2011    NaN  San Francisco     NaN\n"
          ]
        }
      ]
    },
    {
      "cell_type": "code",
      "source": [
        "info_sal = sal.info()\n",
        "print(info_sal)"
      ],
      "metadata": {
        "colab": {
          "base_uri": "https://localhost:8080/"
        },
        "id": "iIjZ7FeDJxGR",
        "outputId": "3e78fff0-db4c-43c7-90d7-95f85b67db80"
      },
      "execution_count": null,
      "outputs": [
        {
          "output_type": "stream",
          "name": "stdout",
          "text": [
            "<class 'pandas.core.frame.DataFrame'>\n",
            "RangeIndex: 148654 entries, 0 to 148653\n",
            "Data columns (total 13 columns):\n",
            " #   Column            Non-Null Count   Dtype  \n",
            "---  ------            --------------   -----  \n",
            " 0   Id                148654 non-null  int64  \n",
            " 1   EmployeeName      148654 non-null  object \n",
            " 2   JobTitle          148654 non-null  object \n",
            " 3   BasePay           148045 non-null  float64\n",
            " 4   OvertimePay       148650 non-null  float64\n",
            " 5   OtherPay          148650 non-null  float64\n",
            " 6   Benefits          112491 non-null  float64\n",
            " 7   TotalPay          148654 non-null  float64\n",
            " 8   TotalPayBenefits  148654 non-null  float64\n",
            " 9   Year              148654 non-null  int64  \n",
            " 10  Notes             0 non-null       float64\n",
            " 11  Agency            148654 non-null  object \n",
            " 12  Status            0 non-null       float64\n",
            "dtypes: float64(8), int64(2), object(3)\n",
            "memory usage: 14.7+ MB\n",
            "None\n"
          ]
        }
      ]
    },
    {
      "cell_type": "code",
      "source": [
        "ave_sal = sal['BasePay'].mean()\n",
        "print(ave_sal)"
      ],
      "metadata": {
        "colab": {
          "base_uri": "https://localhost:8080/"
        },
        "id": "v8ml1ujeNh2t",
        "outputId": "e10d5ada-8d6e-4e1c-92fd-000875289394"
      },
      "execution_count": null,
      "outputs": [
        {
          "output_type": "stream",
          "name": "stdout",
          "text": [
            "66325.4488404877\n"
          ]
        }
      ]
    },
    {
      "cell_type": "code",
      "source": [
        "max_sal = sal['OvertimePay'].max()\n",
        "print(max_sal)"
      ],
      "metadata": {
        "colab": {
          "base_uri": "https://localhost:8080/"
        },
        "id": "LWYiHjuHOSWF",
        "outputId": "311d1089-eb49-4bf6-8422-05baf73c5ed0"
      },
      "execution_count": null,
      "outputs": [
        {
          "output_type": "stream",
          "name": "stdout",
          "text": [
            "245131.88\n"
          ]
        }
      ]
    },
    {
      "cell_type": "code",
      "source": [
        "JD = sal.loc[sal['EmployeeName']=='JOSEPH DRISCOLL']\n",
        "print(JD['JobTitle'])"
      ],
      "metadata": {
        "colab": {
          "base_uri": "https://localhost:8080/"
        },
        "id": "PzLUz4IfPAp_",
        "outputId": "d8d0ce38-34b4-4ef9-c91c-4625921ecafb"
      },
      "execution_count": null,
      "outputs": [
        {
          "output_type": "stream",
          "name": "stdout",
          "text": [
            "24    captain, fire suppression\n",
            "Name: JobTitle, dtype: object\n"
          ]
        }
      ]
    },
    {
      "cell_type": "code",
      "source": [
        "x = JD['TotalPayBenefits']\n",
        "print(x)"
      ],
      "metadata": {
        "colab": {
          "base_uri": "https://localhost:8080/"
        },
        "id": "9-_9gE3YQuqg",
        "outputId": "561f71e0-55a3-4cec-93c6-ef9f91ea20ba"
      },
      "execution_count": null,
      "outputs": [
        {
          "output_type": "stream",
          "name": "stdout",
          "text": [
            "24    270324.91\n",
            "Name: TotalPayBenefits, dtype: float64\n"
          ]
        }
      ]
    },
    {
      "cell_type": "code",
      "source": [
        "pd.set_option('display.width', 1000)\n",
        "q = sal['TotalPayBenefits'].max()\n",
        "p = sal.loc[sal['TotalPayBenefits']== q]\n",
        "print(p)"
      ],
      "metadata": {
        "colab": {
          "base_uri": "https://localhost:8080/"
        },
        "id": "V2SUXzLtRBi_",
        "outputId": "689c4178-52b2-4e43-9cb6-58de3185cce4"
      },
      "execution_count": null,
      "outputs": [
        {
          "output_type": "stream",
          "name": "stdout",
          "text": [
            "   Id    EmployeeName                                        JobTitle    BasePay  OvertimePay   OtherPay  Benefits   TotalPay  TotalPayBenefits  Year  Notes         Agency  Status\n",
            "0   1  NATHANIEL FORD  general manager-metropolitan transit authority  167411.18          0.0  400184.25       NaN  567595.43         567595.43  2011    NaN  San Francisco     NaN\n"
          ]
        }
      ]
    },
    {
      "cell_type": "code",
      "source": [
        "pd.set_option('display.width', 1000)\n",
        "n = sal['TotalPayBenefits'].min()\n",
        "m = sal.loc[sal['TotalPayBenefits']== n]\n",
        "print(m)"
      ],
      "metadata": {
        "colab": {
          "base_uri": "https://localhost:8080/"
        },
        "id": "StYlgRlwUwAU",
        "outputId": "b2258ae3-3056-46eb-e01f-f49538348ebb"
      },
      "execution_count": null,
      "outputs": [
        {
          "output_type": "stream",
          "name": "stdout",
          "text": [
            "            Id EmployeeName                    JobTitle  BasePay  OvertimePay  OtherPay  Benefits  TotalPay  TotalPayBenefits  Year  Notes         Agency  Status\n",
            "148653  148654    Joe Lopez  counselor, log cabin ranch      0.0          0.0   -618.13       0.0   -618.13           -618.13  2014    NaN  San Francisco     NaN\n"
          ]
        }
      ]
    },
    {
      "cell_type": "code",
      "source": [
        "a1 = sal.groupby(\"Year\")\n",
        "b1 = a1['BasePay'].mean()\n",
        "print(b1)"
      ],
      "metadata": {
        "colab": {
          "base_uri": "https://localhost:8080/"
        },
        "id": "TFFVe6V6U70D",
        "outputId": "a6c8f559-3238-414f-a946-59300989653e"
      },
      "execution_count": null,
      "outputs": [
        {
          "output_type": "stream",
          "name": "stdout",
          "text": [
            "Year\n",
            "2011    63595.956517\n",
            "2012    65436.406857\n",
            "2013    69630.030216\n",
            "2014    66564.421924\n",
            "Name: BasePay, dtype: float64\n"
          ]
        }
      ]
    },
    {
      "cell_type": "code",
      "source": [
        "a2 = sal.groupby('JobTitle')\n",
        "print(len(a2))"
      ],
      "metadata": {
        "colab": {
          "base_uri": "https://localhost:8080/"
        },
        "id": "tM3Gy7YjWQN3",
        "outputId": "0fde0c91-6d82-40af-8da4-5eaf826dc392"
      },
      "execution_count": null,
      "outputs": [
        {
          "output_type": "stream",
          "name": "stdout",
          "text": [
            "2159\n"
          ]
        }
      ]
    },
    {
      "cell_type": "code",
      "source": [
        "a3 = sal.groupby('JobTitle').size()\n",
        "b3 = a3.nlargest(5)\n",
        "print(b3)"
      ],
      "metadata": {
        "colab": {
          "base_uri": "https://localhost:8080/"
        },
        "id": "0mfLliDcXcea",
        "outputId": "ac603da6-c6ff-4278-bc06-85f759f3c6af"
      },
      "execution_count": null,
      "outputs": [
        {
          "output_type": "stream",
          "name": "stdout",
          "text": [
            "JobTitle\n",
            "Transit Operator                7036\n",
            "Special Nurse                   4389\n",
            "Registered Nurse                3736\n",
            "Public Svc Aide-Public Works    2518\n",
            "Police Officer 3                2421\n",
            "dtype: int64\n"
          ]
        }
      ]
    },
    {
      "cell_type": "code",
      "source": [
        "sal2013 = sal[sal['Year'] == 2013]\n",
        "sal1 = sal2013['JobTitle'].value_counts()\n",
        "sal2 = sal1[sal1 == 1]\n",
        "sal3 = len(sal2)\n",
        "print(sal3)"
      ],
      "metadata": {
        "colab": {
          "base_uri": "https://localhost:8080/"
        },
        "id": "DfLDVMXziS94",
        "outputId": "d78a2b01-8b18-4981-96b5-298d113acf72"
      },
      "execution_count": null,
      "outputs": [
        {
          "output_type": "stream",
          "name": "stdout",
          "text": [
            "202\n"
          ]
        }
      ]
    },
    {
      "cell_type": "code",
      "source": [
        "xx = sal[sal['JobTitle'].str.contains('Chief')].shape[0]\n",
        "print(xx)"
      ],
      "metadata": {
        "colab": {
          "base_uri": "https://localhost:8080/"
        },
        "id": "KzR0LA4eb9zu",
        "outputId": "eaaf894c-3435-4480-d4ab-a38299647fbe"
      },
      "execution_count": null,
      "outputs": [
        {
          "output_type": "stream",
          "name": "stdout",
          "text": [
            "423\n"
          ]
        }
      ]
    },
    {
      "cell_type": "code",
      "source": [
        "xx = sal[sal['JobTitle'].str.contains('CHIEF')].shape[0]\n",
        "print(xx)"
      ],
      "metadata": {
        "colab": {
          "base_uri": "https://localhost:8080/"
        },
        "id": "-FHLTgJjBhk5",
        "outputId": "6ce543c9-a857-4eb7-af6b-4a31d6ce4827"
      },
      "execution_count": null,
      "outputs": [
        {
          "output_type": "stream",
          "name": "stdout",
          "text": [
            "204\n"
          ]
        }
      ]
    },
    {
      "cell_type": "code",
      "source": [
        "\n",
        "sal['title_len'] = sal['JobTitle'].str.len()\n",
        "\n",
        "\n",
        "matrix = sal[['title_len', 'TotalPayBenefits']].corr()\n",
        "\n",
        "\n",
        "print(matrix)\n",
        "sal = sal.drop('title_len',axis=1)"
      ],
      "metadata": {
        "colab": {
          "base_uri": "https://localhost:8080/"
        },
        "id": "JnvYG0dBz9JW",
        "outputId": "52464150-8fc1-4e91-ae7c-c89a8d619263"
      },
      "execution_count": 9,
      "outputs": [
        {
          "output_type": "stream",
          "name": "stdout",
          "text": [
            "                  title_len  TotalPayBenefits\n",
            "title_len          1.000000         -0.036878\n",
            "TotalPayBenefits  -0.036878          1.000000\n"
          ]
        }
      ]
    }
  ]
}