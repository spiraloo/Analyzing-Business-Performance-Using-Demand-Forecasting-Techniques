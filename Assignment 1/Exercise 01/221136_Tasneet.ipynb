{
  "cells": [
    {
      "attachments": {},
      "cell_type": "markdown",
      "metadata": {
        "id": "wqpRQCHfRRmk"
      },
      "source": [
        "# NumPy Exercises \n",
        "\n",
        "Now that we've learned about NumPy let's test your knowledge. We'll start off with a few simple tasks, and then you'll be asked some more complicated questions. The text below code cell is the expected output.\n",
        "\n",
        "You are all required to upload this file on github before 23:59 on 19/05/2023."
      ]
    },
    {
      "attachments": {},
      "cell_type": "markdown",
      "metadata": {
        "id": "to0vLfZyRRms"
      },
      "source": [
        "#### Import NumPy as np"
      ]
    },
    {
      "cell_type": "code",
      "execution_count": 1,
      "metadata": {
        "id": "9OSeE106RRmt"
      },
      "outputs": [],
      "source": [
        "import numpy as np\n"
      ]
    },
    {
      "attachments": {},
      "cell_type": "markdown",
      "metadata": {
        "id": "DZrzt7BmRRmw"
      },
      "source": [
        "#### Create an array of 10 zeros "
      ]
    },
    {
      "cell_type": "code",
      "execution_count": 27,
      "metadata": {
        "colab": {
          "base_uri": "https://localhost:8080/"
        },
        "id": "EKEqhP1ORRmx",
        "outputId": "22e31302-be3b-4121-c173-97b44740a6f1"
      },
      "outputs": [
        {
          "name": "stdout",
          "output_type": "stream",
          "text": [
            "[0.0, 0.0, 0.0, 0.0, 0.0, 0.0, 0.0, 0.0, 0.0, 0.0]\n"
          ]
        }
      ],
      "source": [
        "a=[]\n",
        "k=0.\n",
        "for x in range (10):\n",
        "    a.append(k)\n",
        "\n",
        "print(a)        \n",
        "\n"
      ]
    },
    {
      "attachments": {},
      "cell_type": "markdown",
      "metadata": {
        "id": "--WK2vn2RRmz"
      },
      "source": [
        "#### Create an array of 10 ones"
      ]
    },
    {
      "cell_type": "code",
      "execution_count": 26,
      "metadata": {
        "colab": {
          "base_uri": "https://localhost:8080/"
        },
        "id": "DtLBz44xRRm0",
        "outputId": "928421ed-2361-4da0-a8be-4e6a8c12fbf3",
        "scrolled": true
      },
      "outputs": [
        {
          "name": "stdout",
          "output_type": "stream",
          "text": [
            "[1.0, 1.0, 1.0, 1.0, 1.0, 1.0, 1.0, 1.0, 1.0, 1.0]\n"
          ]
        }
      ],
      "source": [
        "a=[]\n",
        "k=1.\n",
        "for x in range (10):\n",
        "    a.append(k)\n",
        "print(a) "
      ]
    },
    {
      "attachments": {},
      "cell_type": "markdown",
      "metadata": {
        "id": "o5f7IvSsRRm0"
      },
      "source": [
        "#### Create an array of 10 fives"
      ]
    },
    {
      "cell_type": "code",
      "execution_count": 23,
      "metadata": {
        "colab": {
          "base_uri": "https://localhost:8080/"
        },
        "id": "1acch2yvRRm1",
        "outputId": "5fb12779-c7f8-4497-92ff-ee54b5a1360a"
      },
      "outputs": [
        {
          "name": "stdout",
          "output_type": "stream",
          "text": [
            "[5.0, 5.0, 5.0, 5.0, 5.0, 5.0, 5.0, 5.0, 5.0, 5.0]\n"
          ]
        }
      ],
      "source": [
        "a=[]\n",
        "k=5.\n",
        "for x in range (10):\n",
        "    a.append(k)\n",
        "print(a)"
      ]
    },
    {
      "attachments": {},
      "cell_type": "markdown",
      "metadata": {
        "id": "Ze9fQhO8RRm2"
      },
      "source": [
        "#### Create an array of the integers from 10 to 50"
      ]
    },
    {
      "cell_type": "code",
      "execution_count": 22,
      "metadata": {
        "colab": {
          "base_uri": "https://localhost:8080/"
        },
        "id": "kokL9x6HRRm2",
        "outputId": "d08ad5f8-5242-4bdd-d439-3dda75680469"
      },
      "outputs": [
        {
          "name": "stdout",
          "output_type": "stream",
          "text": [
            "[10, 11, 12, 13, 14, 15, 16, 17, 18, 19, 20, 21, 22, 23, 24, 25, 26, 27, 28, 29, 30, 31, 32, 33, 34, 35, 36, 37, 38, 39, 40, 41, 42, 43, 44, 45, 46, 47, 48, 49, 50]\n"
          ]
        }
      ],
      "source": [
        "a=[]\n",
        "for x in range (10,51):\n",
        "    k=x\n",
        "    a.append(k)\n",
        "print(a)    "
      ]
    },
    {
      "attachments": {},
      "cell_type": "markdown",
      "metadata": {
        "id": "h0fSZ69gRRm3"
      },
      "source": [
        "#### Create an array of all the even integers from 10 to 50"
      ]
    },
    {
      "cell_type": "code",
      "execution_count": 21,
      "metadata": {
        "colab": {
          "base_uri": "https://localhost:8080/"
        },
        "id": "lk9wSNsgRRm3",
        "outputId": "eef2dfad-20c0-4304-c06f-309d5dd633f6"
      },
      "outputs": [
        {
          "name": "stdout",
          "output_type": "stream",
          "text": [
            "[10, 12, 14, 16, 18, 20, 22, 24, 26, 28, 30, 32, 34, 36, 38, 40, 42, 44, 46, 48, 50]\n"
          ]
        }
      ],
      "source": [
        "a=[]\n",
        "for x in range (10,51,2):\n",
        "    k=x\n",
        "    a.append(k)\n",
        "print(a)"
      ]
    },
    {
      "attachments": {},
      "cell_type": "markdown",
      "metadata": {
        "id": "bzU0_ay5RRm4"
      },
      "source": [
        "#### Create a 3x3 matrix with values ranging from 0 to 8"
      ]
    },
    {
      "cell_type": "code",
      "execution_count": 20,
      "metadata": {
        "colab": {
          "base_uri": "https://localhost:8080/"
        },
        "id": "ai3Q6t1FRRm4",
        "outputId": "81f06d6b-794c-46f6-fa82-9534fb8e2e80"
      },
      "outputs": [
        {
          "name": "stdout",
          "output_type": "stream",
          "text": [
            "[[0, 1, 2], [3, 4, 5], [6, 7, 8]]\n"
          ]
        }
      ],
      "source": [
        "a=[[0,1,2],[3,4,5],[6,7,8]]\n",
        "print(a)"
      ]
    },
    {
      "attachments": {},
      "cell_type": "markdown",
      "metadata": {
        "id": "HmaQKerrRRm4"
      },
      "source": [
        "#### Create a 3x3 identity matrix"
      ]
    },
    {
      "cell_type": "code",
      "execution_count": 19,
      "metadata": {
        "colab": {
          "base_uri": "https://localhost:8080/"
        },
        "id": "mDe8_WbJRRm5",
        "outputId": "a2366600-ae8e-40c0-b509-09802cda5165"
      },
      "outputs": [
        {
          "name": "stdout",
          "output_type": "stream",
          "text": [
            "[[1. 0. 0.]\n",
            " [0. 1. 0.]\n",
            " [0. 0. 1.]]\n"
          ]
        }
      ],
      "source": [
        "import numpy as np\n",
        "a=np.zeros((3,3))\n",
        "for x in range (3):\n",
        "   for y in range (3):\n",
        "       if x==y:\n",
        "           a[x][y]=1.\n",
        "print(a)"
      ]
    },
    {
      "attachments": {},
      "cell_type": "markdown",
      "metadata": {
        "id": "twB002KwRRm5"
      },
      "source": [
        "#### Use NumPy to generate a random number between 0 and 1"
      ]
    },
    {
      "cell_type": "code",
      "execution_count": 17,
      "metadata": {
        "colab": {
          "base_uri": "https://localhost:8080/"
        },
        "id": "r66-gjVIRRm5",
        "outputId": "ef0b55c0-56d6-479c-c954-4c2cc92336a6"
      },
      "outputs": [
        {
          "name": "stdout",
          "output_type": "stream",
          "text": [
            "0.18956352956052216\n"
          ]
        }
      ],
      "source": [
        "import numpy as np\n",
        "a=np.random.normal(0,1)\n",
        "print(a)"
      ]
    },
    {
      "attachments": {},
      "cell_type": "markdown",
      "metadata": {
        "id": "f3g3VDyGRRm6"
      },
      "source": [
        "#### Use NumPy to generate an array of 25 random numbers sampled from a standard normal distribution"
      ]
    },
    {
      "cell_type": "code",
      "execution_count": 16,
      "metadata": {
        "colab": {
          "base_uri": "https://localhost:8080/"
        },
        "id": "aRxXl6zYRRm6",
        "outputId": "3cd8e8d4-f726-4395-f642-daab18c1778e"
      },
      "outputs": [
        {
          "name": "stdout",
          "output_type": "stream",
          "text": [
            "[ 1.41192157  0.82583533  0.01187869  0.08650341 -1.14390035  2.05643791\n",
            " -1.79977329  0.1111543  -0.31386008  0.26885517  0.56663661  0.11908504\n",
            "  0.6619858   0.16418137 -0.09122671 -1.10883596 -0.68047574  1.36285228\n",
            " -0.11524165 -0.17983876 -0.74987297 -0.36194876 -0.96557206  0.17492973\n",
            " -1.99924906]\n"
          ]
        }
      ],
      "source": [
        "import numpy as np\n",
        "a = np.random.normal(size=25)\n",
        "print(a)"
      ]
    },
    {
      "attachments": {},
      "cell_type": "markdown",
      "metadata": {
        "id": "DFYmbigRRRm7"
      },
      "source": [
        "#### Create the following matrix:"
      ]
    },
    {
      "cell_type": "code",
      "execution_count": null,
      "metadata": {
        "colab": {
          "base_uri": "https://localhost:8080/"
        },
        "id": "7abdo1CSRRm7",
        "outputId": "66eb2319-d3f7-412f-8c45-6ac6359813cd"
      },
      "outputs": [
        {
          "ename": "",
          "evalue": "",
          "output_type": "error",
          "traceback": [
            "\u001b[1;31mRunning cells with 'c:\\Users\\Tasneet Singh\\AppData\\Local\\Programs\\Python\\Python311\\python.exe' requires the ipykernel package.\n",
            "\u001b[1;31mRun the following command to install 'ipykernel' into the Python environment. \n",
            "\u001b[1;31mCommand: '\"c:/Users/Tasneet Singh/AppData/Local/Programs/Python/Python311/python.exe\" -m pip install ipykernel -U --user --force-reinstall'"
          ]
        }
      ],
      "source": [
        "import numpy as np\n",
        "a=np.zeros((10,10))\n",
        "k=0.01\n",
        "for x in range (10):\n",
        "    for y in range (10):\n",
        "        a[x][y]=float(k)\n",
        "        k=k+0.01\n"
      ]
    },
    {
      "attachments": {},
      "cell_type": "markdown",
      "metadata": {
        "id": "TfabjoiHRRm8"
      },
      "source": [
        "#### Create an array of 20 linearly spaced points between 0 and 1:"
      ]
    },
    {
      "cell_type": "code",
      "execution_count": 15,
      "metadata": {
        "colab": {
          "base_uri": "https://localhost:8080/"
        },
        "id": "fqNIoA0vRRm9",
        "outputId": "c4630937-4450-4b41-c1a8-221e6e85d42a"
      },
      "outputs": [
        {
          "name": "stdout",
          "output_type": "stream",
          "text": [
            "[0.         0.05263158 0.10526316 0.15789474 0.21052632 0.26315789\n",
            " 0.31578947 0.36842105 0.42105263 0.47368421 0.52631579 0.57894737\n",
            " 0.63157895 0.68421053 0.73684211 0.78947368 0.84210526 0.89473684\n",
            " 0.94736842 1.        ]\n"
          ]
        }
      ],
      "source": [
        "import numpy as np\n",
        "a=np.zeros((1,20))\n",
        "a=np.linspace(0,1,20)\n",
        "print(a)"
      ]
    },
    {
      "attachments": {},
      "cell_type": "markdown",
      "metadata": {
        "id": "9tLMORkcRRm9"
      },
      "source": [
        "## Numpy Indexing and Selection\n",
        "\n",
        "Now you will be given a few matrices, and be asked to replicate the resulting matrix outputs:"
      ]
    },
    {
      "cell_type": "code",
      "execution_count": 13,
      "metadata": {
        "id": "qz7eRsy2RRm-",
        "scrolled": true
      },
      "outputs": [],
      "source": [
        "import numpy as np\n",
        "a=np.zeros((5,5))\n",
        "k=1\n",
        "for x in range(5):\n",
        "    for y in range (5):\n",
        "        a[x][y]=k\n",
        "        k+=1"
      ]
    },
    {
      "cell_type": "code",
      "execution_count": 28,
      "metadata": {
        "colab": {
          "base_uri": "https://localhost:8080/"
        },
        "id": "j0Us7bXfRRm-",
        "outputId": "46cf2807-e14b-4402-a83e-dad40f8bf5ea"
      },
      "outputs": [
        {
          "name": "stdout",
          "output_type": "stream",
          "text": [
            "[[ 1.  2.  3.  4.  5.]\n",
            " [ 6.  7.  8.  9. 10.]\n",
            " [11. 12. 13. 14. 15.]]\n"
          ]
        }
      ],
      "source": [
        "import numpy as np\n",
        "a=np.zeros((5,5))\n",
        "k=1\n",
        "for x in range(5):\n",
        "    for y in range (5):\n",
        "        a[x][y]=k\n",
        "        k+=1\n",
        "print(a[0:3])"
      ]
    },
    {
      "cell_type": "code",
      "execution_count": 29,
      "metadata": {
        "colab": {
          "base_uri": "https://localhost:8080/"
        },
        "id": "A7SS0dtvRRm_",
        "outputId": "c8d8fe24-6b3b-4f44-bb36-72f2bc49742d"
      },
      "outputs": [
        {
          "name": "stdout",
          "output_type": "stream",
          "text": [
            "20.0\n"
          ]
        }
      ],
      "source": [
        "import numpy as np\n",
        "a=np.zeros((5,5))\n",
        "k=1\n",
        "for x in range(5):\n",
        "    for y in range (5):\n",
        "        a[x][y]=k\n",
        "        k+=1\n",
        "print(a[3,4])"
      ]
    },
    {
      "cell_type": "code",
      "execution_count": 30,
      "metadata": {
        "colab": {
          "base_uri": "https://localhost:8080/"
        },
        "id": "xO_C2fFxRRm_",
        "outputId": "323f1645-aee9-4e73-f95a-762d4aa87f9f"
      },
      "outputs": [
        {
          "name": "stdout",
          "output_type": "stream",
          "text": [
            "[ 2.  7. 12.]\n"
          ]
        }
      ],
      "source": [
        "import numpy as np\n",
        "a=np.zeros((5,5))\n",
        "k=1\n",
        "for x in range(5):\n",
        "    for y in range (5):\n",
        "        a[x][y]=k\n",
        "        k+=1\n",
        "print(a[0:3,1])   "
      ]
    },
    {
      "cell_type": "code",
      "execution_count": 31,
      "metadata": {
        "colab": {
          "base_uri": "https://localhost:8080/"
        },
        "id": "wTkaKFf4RRnA",
        "outputId": "5dc89bce-25ed-4368-95b8-2582e37f7efb"
      },
      "outputs": [
        {
          "name": "stdout",
          "output_type": "stream",
          "text": [
            "[21. 22. 23. 24. 25.]\n"
          ]
        }
      ],
      "source": [
        "import numpy as np\n",
        "a=np.zeros((5,5))\n",
        "k=1\n",
        "for x in range(5):\n",
        "    for y in range (5):\n",
        "        a[x][y]=k\n",
        "        k+=1\n",
        "print(a[4])"
      ]
    },
    {
      "cell_type": "code",
      "execution_count": 33,
      "metadata": {
        "colab": {
          "base_uri": "https://localhost:8080/"
        },
        "id": "2y4E0IAFRRnA",
        "outputId": "fee0a938-6f08-4c86-9a1a-8dc6d89d7112"
      },
      "outputs": [
        {
          "name": "stdout",
          "output_type": "stream",
          "text": [
            "[[16. 17. 18. 19. 20.]\n",
            " [21. 22. 23. 24. 25.]]\n"
          ]
        }
      ],
      "source": [
        "import numpy as np\n",
        "a=np.zeros((5,5))\n",
        "k=1\n",
        "for x in range(5):\n",
        "    for y in range (5):\n",
        "        a[x][y]=k\n",
        "        k+=1\n",
        "print(a[3:5])"
      ]
    },
    {
      "attachments": {},
      "cell_type": "markdown",
      "metadata": {
        "id": "Dwl4GJCNRRnA"
      },
      "source": [
        "### Now do the following"
      ]
    },
    {
      "attachments": {},
      "cell_type": "markdown",
      "metadata": {
        "id": "WojELHfsRRnB"
      },
      "source": [
        "#### Get the sum of all the values in mat"
      ]
    },
    {
      "cell_type": "code",
      "execution_count": 34,
      "metadata": {
        "colab": {
          "base_uri": "https://localhost:8080/"
        },
        "id": "eaoGSQeZRRnB",
        "outputId": "ddce0c76-2a84-474f-c884-522f1b8d12e0"
      },
      "outputs": [
        {
          "name": "stdout",
          "output_type": "stream",
          "text": [
            "325.0\n"
          ]
        }
      ],
      "source": [
        "import numpy as np\n",
        "a=np.zeros((5,5))\n",
        "k=1\n",
        "for x in range(5):\n",
        "    for y in range (5):\n",
        "        a[x][y]=k\n",
        "        k+=1\n",
        "add=0\n",
        "for i in range(5):\n",
        "    for j in range (5):\n",
        "        add+=a[i][j]\n",
        "print(add)"
      ]
    },
    {
      "attachments": {},
      "cell_type": "markdown",
      "metadata": {
        "id": "LT-oP1mhRRnC"
      },
      "source": [
        "#### Get the standard deviation of the values in mat"
      ]
    },
    {
      "cell_type": "code",
      "execution_count": 35,
      "metadata": {
        "colab": {
          "base_uri": "https://localhost:8080/"
        },
        "id": "IVqZvvSeRRnC",
        "outputId": "247ee769-e728-4c5a-a33a-232b99f1d495"
      },
      "outputs": [
        {
          "name": "stdout",
          "output_type": "stream",
          "text": [
            "7.211102550927978\n"
          ]
        }
      ],
      "source": [
        "import numpy as np\n",
        "a=np.zeros((5,5))\n",
        "k=1\n",
        "for x in range(5):\n",
        "    for y in range (5):\n",
        "        a[x][y]=k\n",
        "        k+=1\n",
        "add1=0\n",
        "for i in range(5):\n",
        "    for j in range (5):\n",
        "        add1+=a[i][j]\n",
        "avg=add1/25\n",
        "add2=0\n",
        "for i in range(5):\n",
        "    for j in range (5):\n",
        "        add2+=(a[i][j]-avg)**2\n",
        "add2/=25\n",
        "std=add2**(0.5)\n",
        "print(std)"
      ]
    },
    {
      "attachments": {},
      "cell_type": "markdown",
      "metadata": {
        "id": "vxw58nXKRRnC"
      },
      "source": [
        "#### Get the sum of all the columns in mat"
      ]
    },
    {
      "cell_type": "code",
      "execution_count": 36,
      "metadata": {
        "colab": {
          "base_uri": "https://localhost:8080/"
        },
        "id": "mo4vl59NRRnD",
        "outputId": "5df5dc9c-cf2b-4cb7-a2b1-a3eb6cab7825"
      },
      "outputs": [
        {
          "name": "stdout",
          "output_type": "stream",
          "text": [
            "[55. 60. 65. 70. 75.]\n"
          ]
        }
      ],
      "source": [
        "import numpy as np\n",
        "a=np.zeros((5,5))\n",
        "k=1\n",
        "for x in range(5):\n",
        "    for y in range (5):\n",
        "        a[x][y]=k\n",
        "        k+=1\n",
        "p=np.zeros((5))\n",
        "for i in range (5):\n",
        "    for j in range (5):\n",
        "        p[i]+=a[j][i]\n",
        "print(p)"
      ]
    },
    {
      "attachments": {},
      "cell_type": "markdown",
      "metadata": {
        "collapsed": true,
        "id": "YlifPdxuRRnQ"
      },
      "source": [
        "# Great Job!"
      ]
    }
  ],
  "metadata": {
    "colab": {
      "provenance": [],
      "toc_visible": true
    },
    "kernelspec": {
      "display_name": "Python 3 (ipykernel)",
      "language": "python",
      "name": "python3"
    },
    "language_info": {
      "codemirror_mode": {
        "name": "ipython",
        "version": 3
      },
      "file_extension": ".py",
      "mimetype": "text/x-python",
      "name": "python",
      "nbconvert_exporter": "python",
      "pygments_lexer": "ipython3",
      "version": "3.11.2"
    }
  },
  "nbformat": 4,
  "nbformat_minor": 0
}
